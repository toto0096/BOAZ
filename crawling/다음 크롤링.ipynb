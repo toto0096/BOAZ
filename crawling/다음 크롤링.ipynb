{
 "cells": [
  {
   "cell_type": "code",
   "execution_count": 13,
   "metadata": {},
   "outputs": [],
   "source": [
    "import requests\n",
    "from bs4 import BeautifulSoup\n",
    "import pandas as pd\n",
    "import time"
   ]
  },
  {
   "cell_type": "code",
   "execution_count": 14,
   "metadata": {},
   "outputs": [],
   "source": [
    "url = \"http://www.daum.net\"\n",
    "response = requests.get(url)\n",
    "html = response.text"
   ]
  },
  {
   "cell_type": "code",
   "execution_count": 11,
   "metadata": {},
   "outputs": [],
   "source": [
    "soup = BeautifulSoup(html, \"html.parser\")"
   ]
  },
  {
   "cell_type": "code",
   "execution_count": 30,
   "metadata": {},
   "outputs": [
    {
     "name": "stdout",
     "output_type": "stream",
     "text": [
      "[<span class=\"txt_issue\"><a class=\"link_issue\" href=\"https://search.daum.net/search?w=tot&amp;q=%EA%B9%80%EC%98%88%EB%A0%B9+%EA%B8%B0%EC%9E%90&amp;DA=ATG&amp;rtmaxcoll=1TH\">김예령 기자</a></span>, <span class=\"txt_issue\"><a class=\"link_issue\" href=\"https://search.daum.net/search?w=tot&amp;q=%EA%B9%80%EC%98%88%EB%A0%B9+%EA%B8%B0%EC%9E%90&amp;DA=ATG&amp;rtmaxcoll=1TH\" tabindex=\"-1\">김예령 기자</a></span>, <span class=\"txt_issue\"><a class=\"link_issue\" href=\"https://search.daum.net/search?w=tot&amp;q=%EA%B2%BD%EA%B8%B0%EB%B0%A9%EC%86%A1&amp;DA=ATG&amp;rtmaxcoll=1TH\">경기방송</a></span>, <span class=\"txt_issue\"><a class=\"link_issue\" href=\"https://search.daum.net/search?w=tot&amp;q=%EA%B2%BD%EA%B8%B0%EB%B0%A9%EC%86%A1&amp;DA=ATG&amp;rtmaxcoll=1TH\" tabindex=\"-1\">경기방송</a></span>, <span class=\"txt_issue\"><a class=\"link_issue\" href=\"https://search.daum.net/search?w=tot&amp;q=%EC%9D%B4%EC%9E%AC%EB%AA%85&amp;DA=ATG&amp;rtmaxcoll=1TH\">이재명</a></span>, <span class=\"txt_issue\"><a class=\"link_issue\" href=\"https://search.daum.net/search?w=tot&amp;q=%EC%9D%B4%EC%9E%AC%EB%AA%85&amp;DA=ATG&amp;rtmaxcoll=1TH\" tabindex=\"-1\">이재명</a></span>, <span class=\"txt_issue\"><a class=\"link_issue\" href=\"https://search.daum.net/search?w=tot&amp;q=%EB%B0%A9%EC%9A%A9%ED%9B%88&amp;DA=ATG&amp;rtmaxcoll=1TH\">방용훈</a></span>, <span class=\"txt_issue\"><a class=\"link_issue\" href=\"https://search.daum.net/search?w=tot&amp;q=%EB%B0%A9%EC%9A%A9%ED%9B%88&amp;DA=ATG&amp;rtmaxcoll=1TH\" tabindex=\"-1\">방용훈</a></span>, <span class=\"txt_issue\"><a class=\"link_issue\" href=\"https://search.daum.net/search?w=tot&amp;q=%EC%A0%95%EC%9C%A0%EC%95%88&amp;DA=ATG&amp;rtmaxcoll=1TH\">정유안</a></span>, <span class=\"txt_issue\"><a class=\"link_issue\" href=\"https://search.daum.net/search?w=tot&amp;q=%EC%A0%95%EC%9C%A0%EC%95%88&amp;DA=ATG&amp;rtmaxcoll=1TH\" tabindex=\"-1\">정유안</a></span>, <span class=\"txt_issue\"><a class=\"link_issue\" href=\"https://search.daum.net/search?w=tot&amp;q=%EA%B1%B4%EC%96%91%EB%8C%80%ED%95%99%EA%B5%90&amp;DA=ATG&amp;rtmaxcoll=1TH\">건양대학교</a></span>, <span class=\"txt_issue\"><a class=\"link_issue\" href=\"https://search.daum.net/search?w=tot&amp;q=%EA%B1%B4%EC%96%91%EB%8C%80%ED%95%99%EA%B5%90&amp;DA=ATG&amp;rtmaxcoll=1TH\" tabindex=\"-1\">건양대학교</a></span>, <span class=\"txt_issue\"><a class=\"link_issue\" href=\"https://search.daum.net/search?w=tot&amp;q=%EC%A7%80%EB%A7%8C%EC%9B%90&amp;DA=ATG&amp;rtmaxcoll=1TH\">지만원</a></span>, <span class=\"txt_issue\"><a class=\"link_issue\" href=\"https://search.daum.net/search?w=tot&amp;q=%EC%A7%80%EB%A7%8C%EC%9B%90&amp;DA=ATG&amp;rtmaxcoll=1TH\" tabindex=\"-1\">지만원</a></span>, <span class=\"txt_issue\"><a class=\"link_issue\" href=\"https://search.daum.net/search?w=tot&amp;q=%EC%A1%B0%EC%95%88&amp;DA=ATG&amp;rtmaxcoll=1TH\">조안</a></span>, <span class=\"txt_issue\"><a class=\"link_issue\" href=\"https://search.daum.net/search?w=tot&amp;q=%EC%A1%B0%EC%95%88&amp;DA=ATG&amp;rtmaxcoll=1TH\" tabindex=\"-1\">조안</a></span>, <span class=\"txt_issue\"><a class=\"link_issue\" href=\"https://search.daum.net/search?w=tot&amp;q=%EB%A1%AF%EB%8D%B0%EB%A6%AC%EC%95%84&amp;DA=ATG&amp;rtmaxcoll=1TH\">롯데리아</a></span>, <span class=\"txt_issue\"><a class=\"link_issue\" href=\"https://search.daum.net/search?w=tot&amp;q=%EB%A1%AF%EB%8D%B0%EB%A6%AC%EC%95%84&amp;DA=ATG&amp;rtmaxcoll=1TH\" tabindex=\"-1\">롯데리아</a></span>, <span class=\"txt_issue\"><a class=\"link_issue\" href=\"https://search.daum.net/search?w=tot&amp;q=%EC%86%A1%EC%84%A0%EB%AF%B8&amp;DA=ATG&amp;rtmaxcoll=1TH\">송선미</a></span>, <span class=\"txt_issue\"><a class=\"link_issue\" href=\"https://search.daum.net/search?w=tot&amp;q=%EC%86%A1%EC%84%A0%EB%AF%B8&amp;DA=ATG&amp;rtmaxcoll=1TH\" tabindex=\"-1\">송선미</a></span>, <span class=\"txt_issue\"><a class=\"link_issue\" href=\"https://search.daum.net/search?w=tot&amp;q=%EA%B9%80%EC%98%88%EB%A0%B9+%EA%B8%B0%EC%9E%90&amp;DA=ATG&amp;rtmaxcoll=1TH\">김예령 기자</a></span>, <span class=\"txt_issue\"><a class=\"link_issue\" href=\"https://search.daum.net/search?w=tot&amp;q=%EA%B2%BD%EA%B8%B0%EB%B0%A9%EC%86%A1&amp;DA=ATG&amp;rtmaxcoll=1TH\">경기방송</a></span>, <span class=\"txt_issue\"><a class=\"link_issue\" href=\"https://search.daum.net/search?w=tot&amp;q=%EC%9D%B4%EC%9E%AC%EB%AA%85&amp;DA=ATG&amp;rtmaxcoll=1TH\">이재명</a></span>, <span class=\"txt_issue\"><a class=\"link_issue\" href=\"https://search.daum.net/search?w=tot&amp;q=%EB%B0%A9%EC%9A%A9%ED%9B%88&amp;DA=ATG&amp;rtmaxcoll=1TH\">방용훈</a></span>, <span class=\"txt_issue\"><a class=\"link_issue\" href=\"https://search.daum.net/search?w=tot&amp;q=%EC%A0%95%EC%9C%A0%EC%95%88&amp;DA=ATG&amp;rtmaxcoll=1TH\">정유안</a></span>, <span class=\"txt_issue\"><a class=\"link_issue\" href=\"https://search.daum.net/search?w=tot&amp;q=%EA%B1%B4%EC%96%91%EB%8C%80%ED%95%99%EA%B5%90&amp;DA=ATG&amp;rtmaxcoll=1TH\">건양대학교</a></span>, <span class=\"txt_issue\"><a class=\"link_issue\" href=\"https://search.daum.net/search?w=tot&amp;q=%EC%A7%80%EB%A7%8C%EC%9B%90&amp;DA=ATG&amp;rtmaxcoll=1TH\">지만원</a></span>, <span class=\"txt_issue\"><a class=\"link_issue\" href=\"https://search.daum.net/search?w=tot&amp;q=%EC%A1%B0%EC%95%88&amp;DA=ATG&amp;rtmaxcoll=1TH\">조안</a></span>, <span class=\"txt_issue\"><a class=\"link_issue\" href=\"https://search.daum.net/search?w=tot&amp;q=%EB%A1%AF%EB%8D%B0%EB%A6%AC%EC%95%84&amp;DA=ATG&amp;rtmaxcoll=1TH\">롯데리아</a></span>, <span class=\"txt_issue\"><a class=\"link_issue\" href=\"https://search.daum.net/search?w=tot&amp;q=%EC%86%A1%EC%84%A0%EB%AF%B8&amp;DA=ATG&amp;rtmaxcoll=1TH\">송선미</a></span>, <span class=\"txt_issue\"><a class=\"link_issue\" href=\"https://search.daum.net/search?w=tot&amp;q=%EA%B9%80%EC%98%88%EB%A0%B9+%EA%B8%B0%EC%9E%90&amp;DA=ATG&amp;rtmaxcoll=1TH\">김예령 기자</a></span>, <span class=\"txt_issue\"><a class=\"link_issue\" href=\"https://search.daum.net/search?w=tot&amp;q=%EA%B9%80%EC%98%88%EB%A0%B9+%EA%B8%B0%EC%9E%90&amp;DA=ATG&amp;rtmaxcoll=1TH\">김예령 기자</a></span>, <span class=\"txt_issue\"><a class=\"link_issue\" href=\"https://search.daum.net/search?w=tot&amp;q=%EA%B2%BD%EA%B8%B0%EB%B0%A9%EC%86%A1&amp;DA=ATG&amp;rtmaxcoll=1TH\">경기방송</a></span>, <span class=\"txt_issue\"><a class=\"link_issue\" href=\"https://search.daum.net/search?w=tot&amp;q=%EA%B2%BD%EA%B8%B0%EB%B0%A9%EC%86%A1&amp;DA=ATG&amp;rtmaxcoll=1TH\">경기방송</a></span>, <span class=\"txt_issue\"><a class=\"link_issue\" href=\"https://search.daum.net/search?w=tot&amp;q=%EC%9D%B4%EC%9E%AC%EB%AA%85&amp;DA=ATG&amp;rtmaxcoll=1TH\">이재명</a></span>, <span class=\"txt_issue\"><a class=\"link_issue\" href=\"https://search.daum.net/search?w=tot&amp;q=%EC%9D%B4%EC%9E%AC%EB%AA%85&amp;DA=ATG&amp;rtmaxcoll=1TH\">이재명</a></span>, <span class=\"txt_issue\"><a class=\"link_issue\" href=\"https://search.daum.net/search?w=tot&amp;q=%EB%B0%A9%EC%9A%A9%ED%9B%88&amp;DA=ATG&amp;rtmaxcoll=1TH\">방용훈</a></span>, <span class=\"txt_issue\"><a class=\"link_issue\" href=\"https://search.daum.net/search?w=tot&amp;q=%EB%B0%A9%EC%9A%A9%ED%9B%88&amp;DA=ATG&amp;rtmaxcoll=1TH\">방용훈</a></span>, <span class=\"txt_issue\"><a class=\"link_issue\" href=\"https://search.daum.net/search?w=tot&amp;q=%EC%A0%95%EC%9C%A0%EC%95%88&amp;DA=ATG&amp;rtmaxcoll=1TH\">정유안</a></span>, <span class=\"txt_issue\"><a class=\"link_issue\" href=\"https://search.daum.net/search?w=tot&amp;q=%EC%A0%95%EC%9C%A0%EC%95%88&amp;DA=ATG&amp;rtmaxcoll=1TH\">정유안</a></span>, <span class=\"txt_issue\"><a class=\"link_issue\" href=\"https://search.daum.net/search?w=tot&amp;q=%EA%B1%B4%EC%96%91%EB%8C%80%ED%95%99%EA%B5%90&amp;DA=ATG&amp;rtmaxcoll=1TH\">건양대학교</a></span>, <span class=\"txt_issue\"><a class=\"link_issue\" href=\"https://search.daum.net/search?w=tot&amp;q=%EA%B1%B4%EC%96%91%EB%8C%80%ED%95%99%EA%B5%90&amp;DA=ATG&amp;rtmaxcoll=1TH\">건양대학교</a></span>, <span class=\"txt_issue\"><a class=\"link_issue\" href=\"https://search.daum.net/search?w=tot&amp;q=%EC%A7%80%EB%A7%8C%EC%9B%90&amp;DA=ATG&amp;rtmaxcoll=1TH\">지만원</a></span>, <span class=\"txt_issue\"><a class=\"link_issue\" href=\"https://search.daum.net/search?w=tot&amp;q=%EC%A7%80%EB%A7%8C%EC%9B%90&amp;DA=ATG&amp;rtmaxcoll=1TH\">지만원</a></span>, <span class=\"txt_issue\"><a class=\"link_issue\" href=\"https://search.daum.net/search?w=tot&amp;q=%EC%A1%B0%EC%95%88&amp;DA=ATG&amp;rtmaxcoll=1TH\">조안</a></span>, <span class=\"txt_issue\"><a class=\"link_issue\" href=\"https://search.daum.net/search?w=tot&amp;q=%EC%A1%B0%EC%95%88&amp;DA=ATG&amp;rtmaxcoll=1TH\">조안</a></span>, <span class=\"txt_issue\"><a class=\"link_issue\" href=\"https://search.daum.net/search?w=tot&amp;q=%EB%A1%AF%EB%8D%B0%EB%A6%AC%EC%95%84&amp;DA=ATG&amp;rtmaxcoll=1TH\">롯데리아</a></span>, <span class=\"txt_issue\"><a class=\"link_issue\" href=\"https://search.daum.net/search?w=tot&amp;q=%EB%A1%AF%EB%8D%B0%EB%A6%AC%EC%95%84&amp;DA=ATG&amp;rtmaxcoll=1TH\">롯데리아</a></span>, <span class=\"txt_issue\"><a class=\"link_issue\" href=\"https://search.daum.net/search?w=tot&amp;q=%EC%86%A1%EC%84%A0%EB%AF%B8&amp;DA=ATG&amp;rtmaxcoll=1TH\">송선미</a></span>, <span class=\"txt_issue\"><a class=\"link_issue\" href=\"https://search.daum.net/search?w=tot&amp;q=%EC%86%A1%EC%84%A0%EB%AF%B8&amp;DA=ATG&amp;rtmaxcoll=1TH\">송선미</a></span>]\n"
     ]
    }
   ],
   "source": [
    "daum = soup.find_all('span', {'class' : 'txt_issue'})\n",
    "print(daum)"
   ]
  },
  {
   "cell_type": "code",
   "execution_count": 32,
   "metadata": {},
   "outputs": [
    {
     "name": "stdout",
     "output_type": "stream",
     "text": [
      "김예령 기자\n",
      "김예령 기자\n",
      "경기방송\n",
      "경기방송\n",
      "이재명\n",
      "이재명\n",
      "방용훈\n",
      "방용훈\n",
      "정유안\n",
      "정유안\n",
      "건양대학교\n",
      "건양대학교\n",
      "지만원\n",
      "지만원\n",
      "조안\n",
      "조안\n",
      "롯데리아\n",
      "롯데리아\n",
      "송선미\n",
      "송선미\n",
      "김예령 기자\n",
      "경기방송\n",
      "이재명\n",
      "방용훈\n",
      "정유안\n",
      "건양대학교\n",
      "지만원\n",
      "조안\n",
      "롯데리아\n",
      "송선미\n",
      "김예령 기자\n",
      "김예령 기자\n",
      "경기방송\n",
      "경기방송\n",
      "이재명\n",
      "이재명\n",
      "방용훈\n",
      "방용훈\n",
      "정유안\n",
      "정유안\n",
      "건양대학교\n",
      "건양대학교\n",
      "지만원\n",
      "지만원\n",
      "조안\n",
      "조안\n",
      "롯데리아\n",
      "롯데리아\n",
      "송선미\n",
      "송선미\n"
     ]
    }
   ],
   "source": [
    "for i in daum :\n",
    "    print(i.text)"
   ]
  }
 ],
 "metadata": {
  "kernelspec": {
   "display_name": "Python 3",
   "language": "python",
   "name": "python3"
  },
  "language_info": {
   "codemirror_mode": {
    "name": "ipython",
    "version": 3
   },
   "file_extension": ".py",
   "mimetype": "text/x-python",
   "name": "python",
   "nbconvert_exporter": "python",
   "pygments_lexer": "ipython3",
   "version": "3.7.1"
  }
 },
 "nbformat": 4,
 "nbformat_minor": 2
}
