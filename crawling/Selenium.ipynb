{
 "cells": [
  {
   "cell_type": "code",
   "execution_count": 24,
   "metadata": {},
   "outputs": [],
   "source": [
    "from selenium import webdriver\n",
    "from bs4 import BeautifulSoup\n",
    "import pandas as pd\n",
    "import time\n",
    "\n",
    "dr = webdriver.Chrome('C:/Users/toto0/Desktop/파일/chromedriver.exe')\n",
    "dr.get(\"https://www.koreabaseball.com/TeamRank/TeamRank.aspx\")"
   ]
  },
  {
   "cell_type": "code",
   "execution_count": 17,
   "metadata": {},
   "outputs": [],
   "source": [
    "# 클릭\n",
    "dr.find_element_by_xpath('//*[@id=\"lnb02\"]').click()"
   ]
  },
  {
   "cell_type": "code",
   "execution_count": 33,
   "metadata": {},
   "outputs": [],
   "source": [
    "# 입력\n",
    "dr = webdriver.Chrome('C:/Users/toto0/Desktop/파일/chromedriver.exe')\n",
    "dr.get('https://www.koreabaseball.com/Player/Search.aspx')\n",
    "dr.find_element_by_xpath('//*[@id=\"cphContents_cphContents_cphContents_txtSearchPlayerName\"]').send_keys('박찬호')"
   ]
  }
 ],
 "metadata": {
  "kernelspec": {
   "display_name": "Python 3",
   "language": "python",
   "name": "python3"
  },
  "language_info": {
   "codemirror_mode": {
    "name": "ipython",
    "version": 3
   },
   "file_extension": ".py",
   "mimetype": "text/x-python",
   "name": "python",
   "nbconvert_exporter": "python",
   "pygments_lexer": "ipython3",
   "version": "3.7.1"
  }
 },
 "nbformat": 4,
 "nbformat_minor": 2
}
