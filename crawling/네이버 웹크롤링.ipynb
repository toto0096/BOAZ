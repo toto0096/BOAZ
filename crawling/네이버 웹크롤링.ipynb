{
 "cells": [
  {
   "cell_type": "code",
   "execution_count": 3,
   "metadata": {},
   "outputs": [],
   "source": [
    "import requests\n",
    "from bs4 import BeautifulSoup\n",
    "import pandas as pd\n",
    "import time"
   ]
  },
  {
   "cell_type": "code",
   "execution_count": 4,
   "metadata": {},
   "outputs": [],
   "source": [
    "url = \"http://www.naver.com\"\n",
    "response = requests.get(url)\n",
    "html = response.text"
   ]
  },
  {
   "cell_type": "code",
   "execution_count": 5,
   "metadata": {},
   "outputs": [],
   "source": [
    "soup = BeautifulSoup(html, \"html.parser\")"
   ]
  },
  {
   "cell_type": "code",
   "execution_count": 11,
   "metadata": {},
   "outputs": [
    {
     "name": "stdout",
     "output_type": "stream",
     "text": [
      "<ul class=\"ah_l\">\n",
      "<li class=\"ah_item\">\n",
      "<a class=\"ah_a\" data-clk=\"lve.keyword\" href=\"#\">\n",
      "<span class=\"ah_r\">1</span>\n",
      "<span class=\"ah_k\">정유안</span>\n",
      "</a>\n",
      "</li>\n",
      "<li class=\"ah_item\">\n",
      "<a class=\"ah_a\" data-clk=\"lve.keyword\" href=\"#\">\n",
      "<span class=\"ah_r\">2</span>\n",
      "<span class=\"ah_k\">2019 스타벅스 럭키백</span>\n",
      "</a>\n",
      "</li>\n",
      "<li class=\"ah_item\">\n",
      "<a class=\"ah_a\" data-clk=\"lve.keyword\" href=\"#\">\n",
      "<span class=\"ah_r\">3</span>\n",
      "<span class=\"ah_k\">스타벅스 럭키백</span>\n",
      "</a>\n",
      "</li>\n",
      "<li class=\"ah_item\">\n",
      "<a class=\"ah_a\" data-clk=\"lve.keyword\" href=\"#\">\n",
      "<span class=\"ah_r\">4</span>\n",
      "<span class=\"ah_k\">rsv바이러스</span>\n",
      "</a>\n",
      "</li>\n",
      "<li class=\"ah_item\">\n",
      "<a class=\"ah_a\" data-clk=\"lve.keyword\" href=\"#\">\n",
      "<span class=\"ah_r\">5</span>\n",
      "<span class=\"ah_k\">롯데리아 핫크리스피버거</span>\n",
      "</a>\n",
      "</li>\n",
      "<li class=\"ah_item\">\n",
      "<a class=\"ah_a\" data-clk=\"lve.keyword\" href=\"#\">\n",
      "<span class=\"ah_r\">6</span>\n",
      "<span class=\"ah_k\">인스코비</span>\n",
      "</a>\n",
      "</li>\n",
      "<li class=\"ah_item\">\n",
      "<a class=\"ah_a\" data-clk=\"lve.keyword\" href=\"#\">\n",
      "<span class=\"ah_r\">7</span>\n",
      "<span class=\"ah_k\">수상한 그녀</span>\n",
      "</a>\n",
      "</li>\n",
      "<li class=\"ah_item\">\n",
      "<a class=\"ah_a\" data-clk=\"lve.keyword\" href=\"#\">\n",
      "<span class=\"ah_r\">8</span>\n",
      "<span class=\"ah_k\">김예령</span>\n",
      "</a>\n",
      "</li>\n",
      "<li class=\"ah_item\">\n",
      "<a class=\"ah_a\" data-clk=\"lve.keyword\" href=\"#\">\n",
      "<span class=\"ah_r\">9</span>\n",
      "<span class=\"ah_k\">심석희 성폭행</span>\n",
      "</a>\n",
      "</li>\n",
      "<li class=\"ah_item\">\n",
      "<a class=\"ah_a\" data-clk=\"lve.keyword\" href=\"#\">\n",
      "<span class=\"ah_r\">10</span>\n",
      "<span class=\"ah_k\">성인애착유형테스트</span>\n",
      "</a>\n",
      "</li>\n",
      "<li class=\"ah_item\">\n",
      "<a class=\"ah_a\" data-clk=\"lve.keyword\" href=\"#\">\n",
      "<span class=\"ah_r\">11</span>\n",
      "<span class=\"ah_k\">한끼줍쇼</span>\n",
      "</a>\n",
      "</li>\n",
      "<li class=\"ah_item\">\n",
      "<a class=\"ah_a\" data-clk=\"lve.keyword\" href=\"#\">\n",
      "<span class=\"ah_r\">12</span>\n",
      "<span class=\"ah_k\">여준형</span>\n",
      "</a>\n",
      "</li>\n",
      "<li class=\"ah_item\">\n",
      "<a class=\"ah_a\" data-clk=\"lve.keyword\" href=\"#\">\n",
      "<span class=\"ah_r\">13</span>\n",
      "<span class=\"ah_k\">키디비</span>\n",
      "</a>\n",
      "</li>\n",
      "<li class=\"ah_item\">\n",
      "<a class=\"ah_a\" data-clk=\"lve.keyword\" href=\"#\">\n",
      "<span class=\"ah_r\">14</span>\n",
      "<span class=\"ah_k\">진승무역</span>\n",
      "</a>\n",
      "</li>\n",
      "<li class=\"ah_item\">\n",
      "<a class=\"ah_a\" data-clk=\"lve.keyword\" href=\"#\">\n",
      "<span class=\"ah_r\">15</span>\n",
      "<span class=\"ah_k\">왼손잡이 아내</span>\n",
      "</a>\n",
      "</li>\n",
      "<li class=\"ah_item\">\n",
      "<a class=\"ah_a\" data-clk=\"lve.keyword\" href=\"#\">\n",
      "<span class=\"ah_r\">16</span>\n",
      "<span class=\"ah_k\">윤수현</span>\n",
      "</a>\n",
      "</li>\n",
      "<li class=\"ah_item\">\n",
      "<a class=\"ah_a\" data-clk=\"lve.keyword\" href=\"#\">\n",
      "<span class=\"ah_r\">17</span>\n",
      "<span class=\"ah_k\">백승호</span>\n",
      "</a>\n",
      "</li>\n",
      "<li class=\"ah_item\">\n",
      "<a class=\"ah_a\" data-clk=\"lve.keyword\" href=\"#\">\n",
      "<span class=\"ah_r\">18</span>\n",
      "<span class=\"ah_k\">으라차차 와이키키 시즌2</span>\n",
      "</a>\n",
      "</li>\n",
      "<li class=\"ah_item\">\n",
      "<a class=\"ah_a\" data-clk=\"lve.keyword\" href=\"#\">\n",
      "<span class=\"ah_r\">19</span>\n",
      "<span class=\"ah_k\">구해줘</span>\n",
      "</a>\n",
      "</li>\n",
      "<li class=\"ah_item\">\n",
      "<a class=\"ah_a\" data-clk=\"lve.keyword\" href=\"#\">\n",
      "<span class=\"ah_r\">20</span>\n",
      "<span class=\"ah_k\">삼성출판사</span>\n",
      "</a>\n",
      "</li>\n",
      "</ul>\n"
     ]
    }
   ],
   "source": [
    "naver = soup.find(\"ul\", {'class' : 'ah_l'})\n",
    "print(naver)"
   ]
  },
  {
   "cell_type": "code",
   "execution_count": 12,
   "metadata": {},
   "outputs": [],
   "source": [
    "naver1 = naver.find_all('span', {'class' : 'ah_k'})"
   ]
  },
  {
   "cell_type": "code",
   "execution_count": 14,
   "metadata": {},
   "outputs": [
    {
     "name": "stdout",
     "output_type": "stream",
     "text": [
      "정유안\n",
      "2019 스타벅스 럭키백\n",
      "스타벅스 럭키백\n",
      "rsv바이러스\n",
      "롯데리아 핫크리스피버거\n",
      "인스코비\n",
      "수상한 그녀\n",
      "김예령\n",
      "심석희 성폭행\n",
      "성인애착유형테스트\n",
      "한끼줍쇼\n",
      "여준형\n",
      "키디비\n",
      "진승무역\n",
      "왼손잡이 아내\n",
      "윤수현\n",
      "백승호\n",
      "으라차차 와이키키 시즌2\n",
      "구해줘\n",
      "삼성출판사\n"
     ]
    }
   ],
   "source": [
    "for i in naver1 :\n",
    "    print(i.text)"
   ]
  }
 ],
 "metadata": {
  "kernelspec": {
   "display_name": "Python 3",
   "language": "python",
   "name": "python3"
  },
  "language_info": {
   "codemirror_mode": {
    "name": "ipython",
    "version": 3
   },
   "file_extension": ".py",
   "mimetype": "text/x-python",
   "name": "python",
   "nbconvert_exporter": "python",
   "pygments_lexer": "ipython3",
   "version": "3.7.1"
  }
 },
 "nbformat": 4,
 "nbformat_minor": 2
}
