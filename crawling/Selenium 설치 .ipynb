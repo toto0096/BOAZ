{
 "cells": [
  {
   "cell_type": "markdown",
   "metadata": {},
   "source": [
    "# 1. Selenium 다운\n",
    "\n",
    "https://chromedriver.storage.googleapis.com/index.html?path=2.45/\n",
    "\n",
    "운영체제 : Window --> win32설치  \n",
    "운영체제 : mac --> mac64설치"
   ]
  },
  {
   "cell_type": "markdown",
   "metadata": {},
   "source": [
    "![이미지](./1.jpg)"
   ]
  },
  {
   "cell_type": "markdown",
   "metadata": {},
   "source": [
    "# 2. Selenium 모듈 설치 및 파일 경로 설정  "
   ]
  },
  {
   "cell_type": "markdown",
   "metadata": {},
   "source": [
    "### 1. 압축을 풀면 chromedriver.exe파일이 나옵니다."
   ]
  },
  {
   "cell_type": "markdown",
   "metadata": {},
   "source": [
    "### 2. 원하는 위치에 파일을 이동합니다.  \n",
    "   저는 __C:/Users/hyunseok/driver/chromedriver.exe__ 가 위치네요!  \n",
    "   저랑 비슷하게 코드를 사용하기 위해 __C:/Users/유저명/driver/__에  __chromedriver.exe__을 저장하는 것을 추천드립니다!"
   ]
  },
  {
   "cell_type": "markdown",
   "metadata": {},
   "source": [
    "![이미지](./2.png)"
   ]
  },
  {
   "cell_type": "markdown",
   "metadata": {},
   "source": [
    "### 3. Selenium 모듈 설치\n",
    "모듈 설치를 안하셨다면 아래 코드를 실행해주세요!"
   ]
  },
  {
   "cell_type": "code",
   "execution_count": 1,
   "metadata": {},
   "outputs": [
    {
     "name": "stdout",
     "output_type": "stream",
     "text": [
      "Collecting selenium\n",
      "  Downloading https://files.pythonhosted.org/packages/80/d6/4294f0b4bce4de0abf13e17190289f9d0613b0a44e5dd6a7f5ca98459853/selenium-3.141.0-py2.py3-none-any.whl (904kB)\n",
      "Requirement already satisfied: urllib3 in c:\\users\\toto0\\anaconda3\\lib\\site-packages (from selenium) (1.24.1)\n",
      "Installing collected packages: selenium\n",
      "Successfully installed selenium-3.141.0\n"
     ]
    }
   ],
   "source": [
    "!pip install selenium"
   ]
  },
  {
   "cell_type": "code",
   "execution_count": 3,
   "metadata": {},
   "outputs": [],
   "source": [
    "#이 코드가 성공적으로 실행되면 모듈이 설치된 것입니다!\n",
    "from selenium import webdriver"
   ]
  },
  {
   "cell_type": "markdown",
   "metadata": {},
   "source": [
    "# 3. 실행\n",
    "아래 코드를 실행해 보세요!"
   ]
  },
  {
   "cell_type": "code",
   "execution_count": 4,
   "metadata": {},
   "outputs": [],
   "source": [
    "###1.driver경로설정\n",
    "driverpath = 'C:/Users/toto0/Desktop/chromedriver_win32/chromedriver.exe' #본인의 크롬드라이버 경로를 넣어주세요!\n",
    "dr = webdriver.Chrome(driverpath)"
   ]
  },
  {
   "cell_type": "markdown",
   "metadata": {},
   "source": [
    "#### 경고가 나오면 액세스 허용을 눌러주세요!"
   ]
  },
  {
   "cell_type": "markdown",
   "metadata": {},
   "source": [
    "![이미지](./3.png)"
   ]
  },
  {
   "cell_type": "markdown",
   "metadata": {},
   "source": [
    "#### 다음과 같이 Chrome이 자동화된 테스트 소프트웨어에 의해 제어되고 있습니다.가 뜬다면 성공적입니다!"
   ]
  },
  {
   "cell_type": "markdown",
   "metadata": {},
   "source": [
    "![이미지](./4.png)"
   ]
  },
  {
   "cell_type": "markdown",
   "metadata": {},
   "source": [
    "# 4. 수고하셨습니다! 다음 코드를 마지막으로 실행해보세요!\n",
    "#### 셀레니움은 다음과 같이 원격으로 크롬을 다룰 수 있습니다!"
   ]
  },
  {
   "cell_type": "code",
   "execution_count": 5,
   "metadata": {},
   "outputs": [],
   "source": [
    "url='https://www.naver.com'\n",
    "dr.get(url)"
   ]
  },
  {
   "cell_type": "markdown",
   "metadata": {},
   "source": [
    "![이미지](./5.png)"
   ]
  }
 ],
 "metadata": {
  "kernelspec": {
   "display_name": "Python 3",
   "language": "python",
   "name": "python3"
  },
  "language_info": {
   "codemirror_mode": {
    "name": "ipython",
    "version": 3
   },
   "file_extension": ".py",
   "mimetype": "text/x-python",
   "name": "python",
   "nbconvert_exporter": "python",
   "pygments_lexer": "ipython3",
   "version": "3.7.1"
  }
 },
 "nbformat": 4,
 "nbformat_minor": 2
}
